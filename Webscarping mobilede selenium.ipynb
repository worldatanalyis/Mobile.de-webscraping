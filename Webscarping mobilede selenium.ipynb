{
 "cells": [
  {
   "cell_type": "markdown",
   "id": "f0810958-b686-47f1-8418-796a2f5c4b71",
   "metadata": {
    "jupyter": {
     "source_hidden": true
    },
    "tags": []
   },
   "source": [
    "# Web scraping mobile.de with Selenium"
   ]
  },
  {
   "cell_type": "markdown",
   "id": "f9b69264-48d5-499c-a5fc-22062d6f0990",
   "metadata": {
    "jupyter": {
     "source_hidden": true
    },
    "tags": []
   },
   "source": [
    "The goal is to get information about cars behing sold in a specific area on the car reseller website mobile.de"
   ]
  },
  {
   "cell_type": "code",
   "execution_count": 1,
   "id": "03dc6f74-33b4-4980-b160-5a6131a29a1d",
   "metadata": {},
   "outputs": [],
   "source": [
    "from selenium import webdriver\n",
    "from selenium.webdriver.common.by import By\n",
    "from selenium.webdriver.support.ui import WebDriverWait\n",
    "from selenium.webdriver.support import expected_conditions as EC\n",
    "from selenium.webdriver.chrome.options import Options\n",
    "import pandas as pd\n",
    "from datetime import datetime\n",
    "import time\n",
    "import concurrent.futures"
   ]
  },
  {
   "cell_type": "code",
   "execution_count": 18,
   "id": "ca4940a3-f8c3-4784-bec4-ed46ee2def09",
   "metadata": {
    "tags": []
   },
   "outputs": [
    {
     "name": "stdout",
     "output_type": "stream",
     "text": [
      "nb_page = 1\n"
     ]
    },
    {
     "name": "stderr",
     "output_type": "stream",
     "text": [
      "C:\\Users\\F\\AppData\\Local\\Temp/ipykernel_17132/386046279.py:20: DeprecationWarning: executable_path has been deprecated, please pass in a Service object\n",
      "  driver = webdriver.Chrome(path)\n"
     ]
    },
    {
     "name": "stdout",
     "output_type": "stream",
     "text": [
      "['13.990 €', '24.199 €', '7.990 €', '10.900 €', '26.750 €', '9.340 €', '12.000 €', '9.999 €', '15.990 €', '24.000 €', '10.100 €', '27.950 €', '16.500 €', '27.000 €', '51.800 €', '22.500 €', '24.900 €', '21.850 €', '25.000 €', '21.900 €']\n",
      "1\n"
     ]
    },
    {
     "name": "stderr",
     "output_type": "stream",
     "text": [
      "C:\\Users\\F\\AppData\\Local\\Temp/ipykernel_17132/386046279.py:62: DeprecationWarning: executable_path has been deprecated, please pass in a Service object\n",
      "  driver = webdriver.Chrome(path)\n"
     ]
    },
    {
     "name": "stdout",
     "output_type": "stream",
     "text": [
      "accept <selenium.webdriver.remote.webelement.WebElement (session=\"ec337154f0a33727433b6a366220be43\", element=\"61053d66-a16d-494c-a115-920af8c5d463\")>\n",
      "2\n",
      "didn't work\n",
      "button not working\n",
      "telbuttopn <selenium.webdriver.remote.webelement.WebElement (session=\"750f073e6fe44d09c3804eede7eb010a\", element=\"572be62f-249b-4c42-b895-bd273cdf80f3\")>\n",
      "3\n",
      "accept <selenium.webdriver.remote.webelement.WebElement (session=\"b5383bc7dcc959a6c8cfad71637f22c3\", element=\"bd8ffa3e-af85-4e16-a465-42725e648eb2\")>\n",
      "telbuttopn <selenium.webdriver.remote.webelement.WebElement (session=\"b5383bc7dcc959a6c8cfad71637f22c3\", element=\"5098bfe0-e293-41c1-8e69-12ea71bf9525\")>\n",
      "+49 (0)176 20706697\n",
      "4\n",
      "accept <selenium.webdriver.remote.webelement.WebElement (session=\"260eaabe2b46babc4f15976dc991bf54\", element=\"bb8d2e84-dba2-4304-8638-9576ef170630\")>\n",
      "telbuttopn <selenium.webdriver.remote.webelement.WebElement (session=\"260eaabe2b46babc4f15976dc991bf54\", element=\"5dee630f-e59d-42ac-80a5-c0c56e13494a\")>\n",
      "+49 (0)176 23372456\n",
      "5\n",
      "accept <selenium.webdriver.remote.webelement.WebElement (session=\"1af9a51966508214d0ac97fb97fc5c01\", element=\"7abc47d7-ac84-4293-88a2-43dcb97c22a3\")>\n",
      "telbuttopn <selenium.webdriver.remote.webelement.WebElement (session=\"1af9a51966508214d0ac97fb97fc5c01\", element=\"08a958db-00b2-47ff-b75e-50f9a924c53e\")>\n",
      "+49 (0)1522 2072964\n",
      "6\n",
      "accept <selenium.webdriver.remote.webelement.WebElement (session=\"3f7963c7d50181468dea54898e3e149d\", element=\"4060fb24-e7f7-415d-aa49-c396b78fee00\")>\n",
      "telbuttopn <selenium.webdriver.remote.webelement.WebElement (session=\"3f7963c7d50181468dea54898e3e149d\", element=\"20aed25d-91ca-4f6e-bd08-d320a6bfe443\")>\n",
      "+49 (0)1515 0715491\n",
      "7\n",
      "accept <selenium.webdriver.remote.webelement.WebElement (session=\"7024c017ca6b71b0ca8b0dabfea53099\", element=\"322b26b5-bf07-4736-91b9-74e20f3c4d99\")>\n",
      "telbuttopn <selenium.webdriver.remote.webelement.WebElement (session=\"7024c017ca6b71b0ca8b0dabfea53099\", element=\"ce6e0bf5-f7e8-4808-88f9-061a65e4ff07\")>\n",
      "+49 (0)178 8474438\n",
      "8\n",
      "accept <selenium.webdriver.remote.webelement.WebElement (session=\"4c13cfc901c5701be8ab1d1278c29b96\", element=\"9b5e6f76-8987-4da0-92c3-fff43f4b109d\")>\n",
      "9\n",
      "accept <selenium.webdriver.remote.webelement.WebElement (session=\"a4b543bafc465902b8b99238d7a546a9\", element=\"a8785812-715b-4cb4-a388-683530a6a8d8\")>\n",
      "telbuttopn <selenium.webdriver.remote.webelement.WebElement (session=\"a4b543bafc465902b8b99238d7a546a9\", element=\"6169d7f6-e163-4c14-8711-3603bea32977\")>\n",
      "+49 (0)179 1203279\n",
      "10\n",
      "accept <selenium.webdriver.remote.webelement.WebElement (session=\"aa5dc79a761966b0ae7b57861af67ea7\", element=\"aefc96fc-a1f4-45d4-aed8-1324b62236ab\")>\n",
      "11\n",
      "accept <selenium.webdriver.remote.webelement.WebElement (session=\"3b038d714bd557a70e556af6607d9383\", element=\"13adf33a-f089-48e9-8517-9e1f89d6771e\")>\n",
      "12\n",
      "accept <selenium.webdriver.remote.webelement.WebElement (session=\"40872d94ab78aaee5b61e9efb868eafa\", element=\"c8bacfb6-f994-4573-af6c-76be39c28e5f\")>\n",
      "13\n",
      "accept <selenium.webdriver.remote.webelement.WebElement (session=\"99fe7022bffd6f791e04909f75ae59d7\", element=\"a576b9c9-c7fd-44dd-a3d7-b43e4cc9970e\")>\n",
      "14\n",
      "accept <selenium.webdriver.remote.webelement.WebElement (session=\"041ee27ccbbe16e6953a2adaa0115ec4\", element=\"c8d7cd22-328c-47ee-b830-0bac9b070c09\")>\n",
      "telbuttopn <selenium.webdriver.remote.webelement.WebElement (session=\"041ee27ccbbe16e6953a2adaa0115ec4\", element=\"f5b52836-f283-4b02-a70e-0ad024c89d5f\")>\n",
      "+49 (0)177 .... ...\n",
      "15\n",
      "accept <selenium.webdriver.remote.webelement.WebElement (session=\"2bda0cff7a8164b4aeba9a671d200c3b\", element=\"83a394e8-c6da-4f91-ae50-73825d2e31af\")>\n",
      "16\n",
      "accept <selenium.webdriver.remote.webelement.WebElement (session=\"9d646f0a4dba2dc7c9a8d875d505e865\", element=\"5c11bdcc-92fd-422b-aa97-10147180332f\")>\n",
      "telbuttopn <selenium.webdriver.remote.webelement.WebElement (session=\"9d646f0a4dba2dc7c9a8d875d505e865\", element=\"4233e8cb-6acf-4e3e-8e6d-fef113e5f3ea\")>\n",
      "+49 (0)177 4315022\n",
      "17\n",
      "accept <selenium.webdriver.remote.webelement.WebElement (session=\"805b3ac96cd0fe94799d742c03e42307\", element=\"8d12bad3-e5f9-4381-8e6c-69c765fca1fd\")>\n",
      "telbuttopn <selenium.webdriver.remote.webelement.WebElement (session=\"805b3ac96cd0fe94799d742c03e42307\", element=\"5f3d9a2f-52b6-4c62-ac91-4cd02aef1a63\")>\n",
      "+49 (0)163 1575047\n",
      "18\n",
      "accept <selenium.webdriver.remote.webelement.WebElement (session=\"e1c43d87a402f7b94c7d030040a414af\", element=\"651ccdad-b3cd-4365-9601-5287ff5e782c\")>\n",
      "19\n",
      "accept <selenium.webdriver.remote.webelement.WebElement (session=\"754c3f1838fd7b95f291eaabbeb5e3df\", element=\"d0005d0f-6334-4065-a05b-b35f3def377a\")>\n",
      "20\n",
      "accept <selenium.webdriver.remote.webelement.WebElement (session=\"56e94df2136e8d4fb822507e6ba70347\", element=\"cde8f1b6-2320-4f11-92f1-64da837a34ec\")>\n",
      "telbuttopn <selenium.webdriver.remote.webelement.WebElement (session=\"56e94df2136e8d4fb822507e6ba70347\", element=\"b1650b59-eb4c-4745-808a-ea5cbde560f8\")>\n",
      "+49 (0)1573 4630828\n",
      "20\n",
      "20\n",
      "['no number', 'no number', '+49 (0)176 20706697', '+49 (0)176 23372456', '+49 (0)1522 2072964', '+49 (0)1515 0715491', '+49 (0)178 8474438', 'no number', '+49 (0)179 1203279', 'no number', 'no number', 'no number', 'no number', '+49 (0)177 .... ...', 'no number', '+49 (0)177 4315022', '+49 (0)163 1575047', 'no number', 'no number', '+49 (0)1573 4630828']\n"
     ]
    },
    {
     "name": "stderr",
     "output_type": "stream",
     "text": [
      "C:\\Users\\F\\AppData\\Local\\Temp/ipykernel_17132/386046279.py:100: FutureWarning: In a future version, `df.iloc[:, i] = newvals` will attempt to set the values inplace instead of always setting a new array. To retain the old behavior, use either `df[df.columns[i]] = newvals` or, if columns are non-unique, `df.isetitem(i, newvals)`\n",
      "  df.loc[:,'ad date'] = list_ad_date\n"
     ]
    },
    {
     "name": "stdout",
     "output_type": "stream",
     "text": [
      "finished in 568.96 seconds\n"
     ]
    }
   ],
   "source": [
    "starttimer = time.perf_counter()\n",
    "\n",
    "#how many sites do we need to go through\n",
    "start_page = 1\n",
    "end_page = 2\n",
    "\n",
    "#creating list to save the data\n",
    "list_ad_link = []\n",
    "list_car_name = []\n",
    "list_ad_date = []\n",
    "list_price = []\n",
    "list_phone_number = []\n",
    "list_page = []\n",
    "\n",
    "#go trhough the lit page of the car ads and collect some data\n",
    "for nb_page in range(1,2):\n",
    "    print(f'nb_page = {nb_page}')\n",
    "    website = f\"https://suchen.mobile.de/fahrzeuge/search.html?adLimitation=ONLY_FSBO_ADS&cn=DE&damageUnrepaired=NO_DAMAGE_UNREPAIRED&gn=65795,%20Hattersheim%20am%20Main,%20Hessen&grossPrice=true&isSearchRequest=true&ll=50.0535847,8.4848511&minPrice=7000&pageNumber={nb_page}&rd=50&ref=srpNextPage&refId=a592a669-58ef-4d57-bdcb-3d5bea50e3ac&scopeId=C&sortOption.sortBy=creationTime&sortOption.sortOrder=ASCENDING\"\n",
    "    path = \"C:/Users/F/PycharmProjects/chromedriver.exe\"\n",
    "    driver = webdriver.Chrome(path)\n",
    "    driver.get(website)\n",
    "\n",
    "    #get link to every ad from a page\n",
    "    list_ad_link_period = []\n",
    "    website1 = driver.find_elements(By.XPATH, '/html/body/div[4]/div[1]/div[3]/div[4]/div[2]/div[2]/div/a')\n",
    "    for i in website1:\n",
    "        list_ad_link.append(i.get_attribute('href'))\n",
    "        list_ad_link_period.append(i.get_attribute('href'))\n",
    "        #get car name from every ad from a page\n",
    "    car_name = driver.find_elements(By.XPATH, '/html/body/div[4]/div[1]/div[3]/div[4]/div[2]/div[2]/div/a/div/div[2]/div[1]/div[1]/div/span[1]')\n",
    "    for i in car_name:\n",
    "        list_car_name.append(i.text)\n",
    "    #get ad date\n",
    "    ad_date = driver.find_elements(By.XPATH, '/html/body/div[4]/div[1]/div[3]/div[4]/div[2]/div[2]/div/a/div/div[2]/div[1]/div[1]/div/span[2]')\n",
    "    for i in ad_date:\n",
    "        iclean = i.text\n",
    "        year = int(iclean[-11:-7])\n",
    "        month = int(iclean[-14:-12])\n",
    "        day = int(iclean[-17:-15])\n",
    "        hour = int(iclean[-5:-3])\n",
    "        minute = int(iclean[-2:])\n",
    "        date = datetime(year, month, day, hour, minute)\n",
    "        list_ad_date.append(date)\n",
    "\n",
    "            \n",
    "    #get price\n",
    "    car_price = driver.find_elements(By.XPATH, '/html/body/div[4]/div[1]/div[3]/div[4]/div[2]/div[2]/div/a/div/div[2]/div[1]/div[2]/div[1]/span[1]')                           \n",
    "    for i in car_price:         \n",
    "        oh = i.text\n",
    "        list_price.append(i.text)\n",
    "    print(list_price)\n",
    "    driver.quit()\n",
    "\n",
    "    #go through the ad websites\n",
    "    n = 0\n",
    "    for i in list_ad_link_period:\n",
    "        list_page.append(nb_page)\n",
    "        ad_website = f\"{i}\"\n",
    "        n = n + 1\n",
    "        print(n)\n",
    "        path = \"C:/Users/F/PycharmProjects/chromedriver.exe\"\n",
    "        driver = webdriver.Chrome(path)\n",
    "        driver.get(ad_website)\n",
    "        try:\n",
    "            WebDriverWait(driver, 30).until(EC.presence_of_element_located((By.XPATH, '/html/body/div[20]/div/div[2]/div/button')))\n",
    "        except:\n",
    "            print(\"didn't work\")\n",
    "            pass\n",
    "\n",
    "        try:\n",
    "            accept_button = driver.find_element(By.XPATH, '/html/body/div[20]/div/div[2]/div/button')\n",
    "            print(\"accept\", accept_button)                \n",
    "            accept_button.click()\n",
    "        except:\n",
    "            print('button not working')\n",
    "            pass\n",
    "        #get phone number\n",
    "        try:\n",
    "            tel_number_button = driver.find_element(By.ID, 'sellerPhoneRevealButton')\n",
    "            print(\"telbuttopn\", tel_number_button)\n",
    "            tel_number_button.click()                          \n",
    "            tel_number = driver.find_element(By.ID, 'seller-phone')\n",
    "            print(tel_number.text)\n",
    "            list_phone_number.append(tel_number.text)\n",
    "        except:\n",
    "            list_phone_number.append(\"no number\")\n",
    "            driver.quit()\n",
    "            pass\n",
    " \n",
    "driver.quit()\n",
    "\n",
    "print(len(list_price))\n",
    "print(len(list_phone_number))\n",
    "print(list_phone_number)\n",
    "      \n",
    "\n",
    "df = pd.DataFrame(columns=['page', 'ad name', 'ad date', 'price', 'phone number', 'ad link'])\n",
    "df.loc[:,'page'] = list_page\n",
    "df.loc[:,'ad name'] = list_car_name\n",
    "df.loc[:,'ad date'] = list_ad_date\n",
    "df.loc[:,'price'] = list_price\n",
    "df.loc[:,'phone number'] = list_phone_number\n",
    "df.loc[:,'ad link'] = list_ad_link\n",
    "df.to_excel(f\"mobile.de webscraping{start_page}.xlsx\")\n",
    "#return df\n",
    "\n",
    "\n",
    "\n",
    "        \n",
    "finishtimer = time.perf_counter()\n",
    "print(f'finished in {round(finishtimer - starttimer,2)} seconds')"
   ]
  },
  {
   "cell_type": "code",
   "execution_count": null,
   "id": "de98e636-a76e-43f6-aa87-eb2271e7f132",
   "metadata": {},
   "outputs": [],
   "source": []
  }
 ],
 "metadata": {
  "kernelspec": {
   "display_name": "Python 3 (ipykernel)",
   "language": "python",
   "name": "python3"
  },
  "language_info": {
   "codemirror_mode": {
    "name": "ipython",
    "version": 3
   },
   "file_extension": ".py",
   "mimetype": "text/x-python",
   "name": "python",
   "nbconvert_exporter": "python",
   "pygments_lexer": "ipython3",
   "version": "3.10.0"
  }
 },
 "nbformat": 4,
 "nbformat_minor": 5
}
