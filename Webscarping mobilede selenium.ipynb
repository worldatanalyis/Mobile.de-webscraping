{
 "cells": [
  {
   "cell_type": "markdown",
   "id": "f0810958-b686-47f1-8418-796a2f5c4b71",
   "metadata": {
    "tags": []
   },
   "source": [
    "# Web scraping mobile.de with Selenium"
   ]
  },
  {
   "cell_type": "markdown",
   "id": "f9b69264-48d5-499c-a5fc-22062d6f0990",
   "metadata": {
    "tags": []
   },
   "source": [
    "The goal is to get information about cars behing sold in a specific area on the car reseller website mobile.de"
   ]
  },
  {
   "cell_type": "code",
   "execution_count": 2,
   "id": "03dc6f74-33b4-4980-b160-5a6131a29a1d",
   "metadata": {},
   "outputs": [],
   "source": [
    "from selenium import webdriver\n",
    "from selenium.webdriver.common.by import By\n",
    "from selenium.webdriver.support.ui import WebDriverWait\n",
    "from selenium.webdriver.support import expected_conditions as EC\n",
    "from selenium.webdriver.chrome.options import Options\n",
    "import pandas as pd\n",
    "from datetime import datetime\n",
    "import time\n",
    "import concurrent.futures"
   ]
  },
  {
   "cell_type": "code",
   "execution_count": 4,
   "id": "ca4940a3-f8c3-4784-bec4-ed46ee2def09",
   "metadata": {
    "tags": []
   },
   "outputs": [
    {
     "name": "stdout",
     "output_type": "stream",
     "text": [
      "nb_page = 1\n"
     ]
    },
    {
     "name": "stderr",
     "output_type": "stream",
     "text": [
      "C:\\Users\\F\\AppData\\Local\\Temp/ipykernel_9584/729907101.py:20: DeprecationWarning: executable_path has been deprecated, please pass in a Service object\n",
      "  driver = webdriver.Chrome(path)\n"
     ]
    },
    {
     "name": "stdout",
     "output_type": "stream",
     "text": [
      "1\n"
     ]
    },
    {
     "name": "stderr",
     "output_type": "stream",
     "text": [
      "C:\\Users\\F\\AppData\\Local\\Temp/ipykernel_9584/729907101.py:61: DeprecationWarning: executable_path has been deprecated, please pass in a Service object\n",
      "  driver = webdriver.Chrome(path)\n"
     ]
    },
    {
     "name": "stdout",
     "output_type": "stream",
     "text": [
      "2\n",
      "3\n",
      "4\n",
      "5\n",
      "6\n",
      "7\n",
      "8\n",
      "9\n",
      "10\n",
      "11\n",
      "12\n",
      "13\n",
      "14\n",
      "15\n",
      "16\n",
      "17\n",
      "18\n",
      "19\n",
      "20\n"
     ]
    },
    {
     "name": "stderr",
     "output_type": "stream",
     "text": [
      "C:\\Users\\F\\AppData\\Local\\Temp/ipykernel_9584/729907101.py:90: FutureWarning: In a future version, `df.iloc[:, i] = newvals` will attempt to set the values inplace instead of always setting a new array. To retain the old behavior, use either `df[df.columns[i]] = newvals` or, if columns are non-unique, `df.isetitem(i, newvals)`\n",
      "  df.loc[:,'ad date'] = list_ad_date\n"
     ]
    },
    {
     "name": "stdout",
     "output_type": "stream",
     "text": [
      "finished in 519.5 seconds\n"
     ]
    }
   ],
   "source": [
    "starttimer = time.perf_counter()\n",
    "\n",
    "#how many sites do we need to go through\n",
    "start_page = 1\n",
    "end_page = 2\n",
    "\n",
    "#creating list to save the data\n",
    "list_ad_link = []\n",
    "list_car_name = []\n",
    "list_ad_date = []\n",
    "list_price = []\n",
    "list_phone_number = []\n",
    "list_page = []\n",
    "\n",
    "#go trhough the lit page of the car ads and collect some data\n",
    "for nb_page in range(1,2):\n",
    "    print(f'nb_page = {nb_page}')\n",
    "    website = f\"https://suchen.mobile.de/fahrzeuge/search.html?adLimitation=ONLY_FSBO_ADS&cn=DE&damageUnrepaired=NO_DAMAGE_UNREPAIRED&gn=65795,%20Hattersheim%20am%20Main,%20Hessen&grossPrice=true&isSearchRequest=true&ll=50.0535847,8.4848511&minPrice=7000&pageNumber={nb_page}&rd=50&ref=srpNextPage&refId=a592a669-58ef-4d57-bdcb-3d5bea50e3ac&scopeId=C&sortOption.sortBy=creationTime&sortOption.sortOrder=ASCENDING\"\n",
    "    path = \"C:/Users/F/PycharmProjects/chromedriver.exe\"\n",
    "    driver = webdriver.Chrome(path)\n",
    "    driver.get(website)\n",
    "\n",
    "    #get link to every ad from a page\n",
    "    list_ad_link_period = []\n",
    "    website1 = driver.find_elements(By.XPATH, '/html/body/div[4]/div[1]/div[3]/div[4]/div[2]/div[2]/div/a')\n",
    "    for i in website1:\n",
    "        list_ad_link.append(i.get_attribute('href'))\n",
    "        list_ad_link_period.append(i.get_attribute('href'))\n",
    "        #get car name from every ad from a page\n",
    "    car_name = driver.find_elements(By.XPATH, '/html/body/div[4]/div[1]/div[3]/div[4]/div[2]/div[2]/div/a/div/div[2]/div[1]/div[1]/div/span[1]')\n",
    "    for i in car_name:\n",
    "        list_car_name.append(i.text)\n",
    "    #get ad date\n",
    "    ad_date = driver.find_elements(By.XPATH, '/html/body/div[4]/div[1]/div[3]/div[4]/div[2]/div[2]/div/a/div/div[2]/div[1]/div[1]/div/span[2]')\n",
    "    for i in ad_date:\n",
    "        iclean = i.text\n",
    "        year = int(iclean[-11:-7])\n",
    "        month = int(iclean[-14:-12])\n",
    "        day = int(iclean[-17:-15])\n",
    "        hour = int(iclean[-5:-3])\n",
    "        minute = int(iclean[-2:])\n",
    "        date = datetime(year, month, day, hour, minute)\n",
    "        list_ad_date.append(date)\n",
    "\n",
    "            \n",
    "    #get price\n",
    "    car_price = driver.find_elements(By.XPATH, '/html/body/div[4]/div[1]/div[3]/div[4]/div[2]/div[2]/div/a/div/div[2]/div[1]/div[2]/div[1]/span[1]')                           \n",
    "    for i in car_price:         \n",
    "        oh = i.text\n",
    "        list_price.append(i.text)\n",
    "    driver.quit()\n",
    "\n",
    "    #go through the ad websites\n",
    "    n = 0\n",
    "    for i in list_ad_link_period:\n",
    "        list_page.append(nb_page)\n",
    "        ad_website = f\"{i}\"\n",
    "        n = n + 1\n",
    "        print(n)\n",
    "        path = \"C:/Users/F/PycharmProjects/chromedriver.exe\"\n",
    "        driver = webdriver.Chrome(path)\n",
    "        driver.get(ad_website)\n",
    "        try:\n",
    "            WebDriverWait(driver, 30).until(EC.presence_of_element_located((By.XPATH, '/html/body/div[20]/div/div[2]/div/button')))\n",
    "        except:\n",
    "            pass\n",
    "\n",
    "        try:\n",
    "            accept_button = driver.find_element(By.XPATH, '/html/body/div[20]/div/div[2]/div/button')               \n",
    "            accept_button.click()\n",
    "        except:\n",
    "            pass\n",
    "        #get phone number\n",
    "        try:\n",
    "            tel_number_button = driver.find_element(By.ID, 'sellerPhoneRevealButton')\n",
    "            tel_number_button.click()                          \n",
    "            tel_number = driver.find_element(By.ID, 'seller-phone')\n",
    "            list_phone_number.append(tel_number.text)\n",
    "        except:\n",
    "            list_phone_number.append(\"no number\")\n",
    "            driver.quit()\n",
    "            pass\n",
    " \n",
    "driver.quit()\n",
    "      \n",
    "\n",
    "df = pd.DataFrame(columns=['page', 'ad name', 'ad date', 'price', 'phone number', 'ad link'])\n",
    "df.loc[:,'page'] = list_page\n",
    "df.loc[:,'ad name'] = list_car_name\n",
    "df.loc[:,'ad date'] = list_ad_date\n",
    "df.loc[:,'price'] = list_price\n",
    "df.loc[:,'phone number'] = list_phone_number\n",
    "df.loc[:,'ad link'] = list_ad_link\n",
    "df.to_excel(f\"mobile.de webscraping{start_page}.xlsx\")\n",
    "#return df\n",
    "\n",
    "\n",
    "\n",
    "        \n",
    "finishtimer = time.perf_counter()\n",
    "print(f'finished in {round(finishtimer - starttimer,2)} seconds')"
   ]
  },
  {
   "cell_type": "code",
   "execution_count": null,
   "id": "de98e636-a76e-43f6-aa87-eb2271e7f132",
   "metadata": {},
   "outputs": [],
   "source": []
  }
 ],
 "metadata": {
  "kernelspec": {
   "display_name": "Python 3 (ipykernel)",
   "language": "python",
   "name": "python3"
  },
  "language_info": {
   "codemirror_mode": {
    "name": "ipython",
    "version": 3
   },
   "file_extension": ".py",
   "mimetype": "text/x-python",
   "name": "python",
   "nbconvert_exporter": "python",
   "pygments_lexer": "ipython3",
   "version": "3.10.0"
  }
 },
 "nbformat": 4,
 "nbformat_minor": 5
}
